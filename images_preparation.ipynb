{
 "cells": [
  {
   "cell_type": "code",
   "execution_count": 14,
   "id": "b9d1e827",
   "metadata": {},
   "outputs": [],
   "source": [
    "import numpy as np \n",
    "import pandas as pd\n",
    "import glob\n",
    "from tqdm import tqdm\n",
    "import os\n",
    "import cv2\n",
    "import matplotlib.pyplot as plt"
   ]
  },
  {
   "cell_type": "markdown",
   "id": "71fb9ab9",
   "metadata": {},
   "source": [
    "## Prepare image directories"
   ]
  },
  {
   "cell_type": "code",
   "execution_count": 154,
   "id": "e475a66d",
   "metadata": {},
   "outputs": [],
   "source": [
    "train_dir =\"animal_dataset/train\"\n",
    "test_dir =\"animal_dataset/test\"\n",
    "\n",
    "all_train_subdir=glob.glob(train_dir+\"/*\")\n",
    "all_test_subdir=glob.glob(test_dir+\"/*\")"
   ]
  },
  {
   "cell_type": "code",
   "execution_count": 159,
   "id": "18ccf9e6",
   "metadata": {},
   "outputs": [],
   "source": [
    "all_train_subdir = [item.replace('\\\\', '/') for item in all_train_subdir]\n",
    "all_test_subdir = [item.replace('\\\\', '/') for item in all_test_subdir]"
   ]
  },
  {
   "cell_type": "code",
   "execution_count": 162,
   "id": "cf3cec5f",
   "metadata": {},
   "outputs": [],
   "source": [
    "os.mkdir(\"yolo\")\n",
    "os.mkdir(\"yolo/test\")\n",
    "os.mkdir(\"yolo/test/images\")\n",
    "os.mkdir(\"yolo/test/labels\")\n",
    "os.mkdir(\"yolo/train\")\n",
    "os.mkdir(\"yolo/train/images\")\n",
    "os.mkdir(\"yolo/train/labels\")"
   ]
  },
  {
   "cell_type": "code",
   "execution_count": 163,
   "id": "0027ddcd",
   "metadata": {},
   "outputs": [
    {
     "name": "stderr",
     "output_type": "stream",
     "text": [
      "100%|██████████| 3/3 [00:00<00:00, 3201.76it/s]\n"
     ]
    }
   ],
   "source": [
    "for subdir_id in tqdm(range(len(all_train_subdir))):\n",
    "    subdir = all_train_subdir[subdir_id]"
   ]
  },
  {
   "cell_type": "markdown",
   "id": "d55e54ce",
   "metadata": {},
   "source": [
    "## Image preproccessing for yolov5 format"
   ]
  },
  {
   "cell_type": "code",
   "execution_count": 165,
   "id": "3a206c50",
   "metadata": {},
   "outputs": [
    {
     "name": "stderr",
     "output_type": "stream",
     "text": [
      "100%|██████████| 3/3 [00:28<00:00,  9.45s/it]\n"
     ]
    }
   ],
   "source": [
    "def process_dataset(subdirs, dst_dir, class_names, size=(640,640), link=False):\n",
    "    for subdir_id in tqdm(range(len(subdirs))):\n",
    "        subdir = subdirs[subdir_id]\n",
    "        prefix=os.path.basename(subdir)\n",
    "        for image_file in glob.glob(os.path.join(subdir, \"*.jpg\")):\n",
    "            image_file_basename=os.path.basename(image_file)\n",
    "            label_file = os.path.join(subdir, \"Label\", image_file_basename).replace(\".jpg\", \".txt\")\n",
    "            dst_image_file = os.path.join(dst_dir, \"images/%s_%s\"%(prefix,image_file_basename))\n",
    "            dst_label_file = os.path.join(dst_dir, \"labels/%s_%s\"%(prefix,image_file_basename.replace(\".jpg\", \".txt\")))\n",
    "            if os.path.exists(dst_label_file):\n",
    "                continue\n",
    "                        \n",
    "            image = cv2.imread(image_file)                \n",
    "            height, width = image.shape[0:2]\n",
    "            with open(label_file) as fobj:\n",
    "                with open(dst_label_file, \"w\") as wobj:\n",
    "                    while True:\n",
    "                        item = fobj.readline()\n",
    "                        if item is None or len(item)==0:\n",
    "                            break\n",
    "                        class_name = prefix\n",
    "                        item=item[len(class_name):]\n",
    "                        item = item.split()\n",
    "                        xmin = float(item[0])\n",
    "                        ymin = float(item[1])\n",
    "                        xmax = float(item[2])\n",
    "                        ymax = float(item[3])\n",
    "\n",
    "                        cx   = (xmin + xmax)/2.0/width\n",
    "                        cy   = (ymin + ymax)/2.0/height\n",
    "                        bw   = (xmax - xmin)/width\n",
    "                        bh   = (ymax - ymin)/height\n",
    "                        class_id = class_names.index(class_name)\n",
    "                        output_line = \"%d %f %f %f %f\\n\"%(class_id, cx, cy, bw, bh)\n",
    "                        wobj.write(output_line)\n",
    "\n",
    "            if link==True:\n",
    "                os.symlink(image_file, dst_image_file)\n",
    "            else:\n",
    "                image = cv2.resize(image, size)\n",
    "                cv2.imwrite(dst_image_file, image)\n",
    "\n",
    "# process_dataset(all_train_subdir, yolo_train_dir, train_classes, size=(640,640), link=False)        \n",
    "xueqin_train_subdir=all_train_subdir\n",
    "xueqin_classes=[os.path.basename(pp) for pp in xueqin_train_subdir]\n",
    "\n",
    "process_dataset(xueqin_train_subdir, yolo_train_dir, xueqin_classes, size=(640,640), link=False)        "
   ]
  },
  {
   "cell_type": "code",
   "execution_count": 170,
   "id": "dfe71b42",
   "metadata": {},
   "outputs": [
    {
     "name": "stderr",
     "output_type": "stream",
     "text": [
      "100%|██████████| 3/3 [00:18<00:00,  6.13s/it]\n"
     ]
    }
   ],
   "source": [
    "xueqin_test_subdir=all_test_subdir\n",
    "process_dataset(xueqin_test_subdir, yolo_test_dir, xueqin_classes, size=(640,640), link=False)"
   ]
  },
  {
   "cell_type": "markdown",
   "id": "6219c552",
   "metadata": {},
   "source": [
    "## Create yaml config file inside the data folder of yolov5"
   ]
  },
  {
   "cell_type": "code",
   "execution_count": 171,
   "id": "d4434a1b",
   "metadata": {},
   "outputs": [],
   "source": [
    "yaml_file=\"yolov5/data/animal.yaml\"\n",
    "train_images_dir = os.path.join(\"..\", yolo_train_dir, \"images\")\n",
    "val_images_dir = os.path.join(\"..\", yolo_test_dir, \"images\")\n",
    "\n",
    "\n",
    "names_str=\"\"\n",
    "for item in xueqin_classes:\n",
    "    names_str=names_str + \", \\'%s\\'\"%item\n",
    "names_str= \"names: [\"+names_str[1:]+\"]\"\n",
    "\n",
    "with open(yaml_file, \"w\") as wobj:\n",
    "    wobj.write(\"train: %s\\n\"%train_images_dir)\n",
    "    wobj.write(\"val: %s\\n\"%val_images_dir)\n",
    "    wobj.write(\"nc: %d\\n\"%len(xueqin_classes))\n",
    "    wobj.write(names_str+\"\\n\")"
   ]
  },
  {
   "cell_type": "code",
   "execution_count": null,
   "id": "156fea65",
   "metadata": {},
   "outputs": [],
   "source": [
    "yaml_file=\"yolov5/data/animal.yaml\"\n",
    "train_images_dir = os.path.join(\"..\", yolo_train_dir, \"images\")\n",
    "val_images_dir = os.path.join(\"..\", yolo_test_dir, \"images\")\n",
    "\n",
    "\n",
    "names_str=\"\"\n",
    "for item in xueqin_classes:\n",
    "    names_str=names_str + \", \\'%s\\'\"%item\n",
    "names_str= \"names: [\"+names_str[1:]+\"]\"\n",
    "\n",
    "with open(yaml_file, \"w\") as wobj:\n",
    "    wobj.write(\"train: %s\\n\"%train_images_dir)\n",
    "    wobj.write(\"val: %s\\n\"%val_images_dir)\n",
    "    wobj.write(\"nc: %d\\n\"%len(xueqin_classes))\n",
    "    wobj.write(names_str+\"\\n\")"
   ]
  },
  {
   "cell_type": "code",
   "execution_count": 182,
   "id": "0ee52c29",
   "metadata": {},
   "outputs": [
    {
     "name": "stderr",
     "output_type": "stream",
     "text": [
      "python: can't open file 'C:\\Users\\GeorgiosRigas\\Downloads\\sites\\seal_detect\\detect.py': [Errno 2] No such file or directory\n"
     ]
    }
   ],
   "source": [
    "!python detect.py --weights ../yolo2/test/best.pt --conf 0.1 --source ../yolo2/test/batch_seals --save-crop\n"
   ]
  }
 ],
 "metadata": {
  "kernelspec": {
   "display_name": "Python 3 (ipykernel)",
   "language": "python",
   "name": "python3"
  },
  "language_info": {
   "codemirror_mode": {
    "name": "ipython",
    "version": 3
   },
   "file_extension": ".py",
   "mimetype": "text/x-python",
   "name": "python",
   "nbconvert_exporter": "python",
   "pygments_lexer": "ipython3",
   "version": "3.9.12"
  },
  "vscode": {
   "interpreter": {
    "hash": "db8b08b6584ca8e99fe98a33c29dfb1a1404da09c32384ff657b059f608da452"
   }
  }
 },
 "nbformat": 4,
 "nbformat_minor": 5
}
